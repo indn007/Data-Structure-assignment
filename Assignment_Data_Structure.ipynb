{
  "nbformat": 4,
  "nbformat_minor": 0,
  "metadata": {
    "colab": {
      "provenance": []
    },
    "kernelspec": {
      "name": "python3",
      "display_name": "Python 3"
    },
    "language_info": {
      "name": "python"
    }
  },
  "cells": [
    {
      "cell_type": "markdown",
      "source": [
        "#**Theory Questions**"
      ],
      "metadata": {
        "id": "kYlW-FpHt73z"
      }
    },
    {
      "cell_type": "markdown",
      "source": [
        "### **Q1.  What are data structures, and why are they important?**"
      ],
      "metadata": {
        "id": "o9YZGCMNnUxn"
      }
    },
    {
      "cell_type": "markdown",
      "source": [
        "**Ans:-** Data structures are specialized formats for organizing, managing, and storing data in a computer so that it can be accessed and modified efficiently. They provide a way to arrange data logically to solve computational problems.\n",
        "\n",
        "In Python, data structures include built-in types such as lists, tuples, sets, and dictionaries.\n",
        "\n",
        "**Why They're Important:**\n",
        "\n",
        "1. Make data easy to access and modify.\n",
        "\n",
        "2. Improve speed and performance of programs.\n",
        "\n",
        "3. Help manage large amounts of data.\n",
        "\n",
        "4. Essential for building efficient algorithms.\n"
      ],
      "metadata": {
        "id": "PAH-csDTnWOK"
      }
    },
    {
      "cell_type": "markdown",
      "source": [
        "###**Q2. Explain the difference between mutable and immutable data types with examples**\n"
      ],
      "metadata": {
        "id": "y8EiBGLxpwbp"
      }
    },
    {
      "cell_type": "markdown",
      "source": [
        "**Ans:-** we can change the elements of Mutable data type, we can add, update, or delete items within them.\n",
        "\n",
        "`Examples: Lists, Dictionaries, Sets, Byte Arrays.`\n",
        "\n",
        "Immutable data types do not allow modifications to their elements.\n",
        "\n",
        "`Examples: Strings, Tuples, Integers, Floats, Frozen Sets, Booleans.`"
      ],
      "metadata": {
        "id": "5lEuzY8jp5P2"
      }
    },
    {
      "cell_type": "markdown",
      "source": [
        "### **Q3.  What are the main differences between lists and tuples in Python?**"
      ],
      "metadata": {
        "id": "fVIoHBaTqu8J"
      }
    },
    {
      "cell_type": "markdown",
      "source": [
        "**Ans:-** **Difference between List and tuple:-**\n",
        "\n",
        "1. list is Mutable and tuple is immutable.\n",
        "2. list is defines by square brackets \"[]\" and tuple are define by parentheses\"()\"  \n",
        "3. list is Slower due to mutability andtupe is faster because of immutability.\n",
        "4. list require more memory and tuple uses less memory compared to lists."
      ],
      "metadata": {
        "id": "uOQiDxJoq1ck"
      }
    },
    {
      "cell_type": "markdown",
      "source": [
        "###**Q4.  Describe how dictionaries store data?**"
      ],
      "metadata": {
        "id": "4MTN4OENsY_o"
      }
    },
    {
      "cell_type": "markdown",
      "source": [
        "**Ans:-** Dictionaries are powerful data structures that store `key-value pairs`. This means each piece of data in a dictionary has two parts:\n",
        "\n",
        "1. Key: A unique identifier.\n",
        "\n",
        "2. Value: The data associated with the key."
      ],
      "metadata": {
        "id": "C1R7xGlAse9x"
      }
    },
    {
      "cell_type": "markdown",
      "source": [
        "###**Q5.  Why might you use a set instead of a list in Python?**"
      ],
      "metadata": {
        "id": "NM7ngzDJswX3"
      }
    },
    {
      "cell_type": "markdown",
      "source": [
        "**Ans:-** A set is used when you need to store unique items and don’t care about the order.\n",
        "\n",
        "**Main Reasons to Use a Set:**\n",
        "\n",
        "1. No duplicates allowed.Sets automatically remove duplicate values.\n",
        "\n",
        "2. Perfect for storing unique data.\n",
        "\n",
        "3. Faster Lookups.\n",
        "\n",
        "Checking if an item exists is faster in a set than in a list (average time: O(1) vs. O(n)). Efficient Set Operations\n",
        "\n",
        "Sets support powerful operations like union, intersection, difference, etc."
      ],
      "metadata": {
        "id": "2Coradlos2Hr"
      }
    },
    {
      "cell_type": "markdown",
      "source": [
        "###**Q6.  What is a string in Python, and how is it different from a list?**"
      ],
      "metadata": {
        "id": "eMcJvAahtOmm"
      }
    },
    {
      "cell_type": "markdown",
      "source": [
        "**Ans:-**String is a sequence of characters—such as letters, numbers, or symbols—used to represent text in Python. Strings are written inside quotes, like 'Hello' or \"Python\".\n",
        "\n",
        "Strings are immutable, meaning once a string is created, its characters cannot be changed directly.\n",
        "\n",
        "**How is it Different from a List?**\n",
        "\n",
        "1. A list is a collection of items, not just text. It can store numbers, strings, or even other lists.\n",
        "\n",
        "2. Written inside square brackets: [1, 2, 3] or [\"apple\", \"banana\"]\n",
        "\n",
        "3. Lists are mutable – you can change, add, or remove items.\n",
        "\n",
        "4. String = text only, cannot be changed.\n",
        "\n",
        "5. List = can hold anything (numbers, text, etc.), can be changed."
      ],
      "metadata": {
        "id": "2iQvu8_qtTYw"
      }
    },
    {
      "cell_type": "markdown",
      "source": [
        "###**Q7.  How do tuples ensure data integrity in Python?**"
      ],
      "metadata": {
        "id": "g6lT8HxhtwN6"
      }
    },
    {
      "cell_type": "markdown",
      "source": [
        "**Ans:-** Tuples are immutable data structures in Python, meaning their contents cannot be changed after creation. This immutability is the primary feature that ensures data integrity, as it prevents accidental or intentional modification of the data stored within the tuple."
      ],
      "metadata": {
        "id": "U90XjjfhuWcE"
      }
    },
    {
      "cell_type": "markdown",
      "source": [
        "###**Q8.  What is a hash table, and how does it relate to dictionaries in Python?**"
      ],
      "metadata": {
        "id": "xOtmLkF9uipu"
      }
    },
    {
      "cell_type": "markdown",
      "source": [
        "**Ans:-** A hash table is a data structure that stores key-value pairs and uses a hash function to quickly find values based on their keys.\n",
        "\n",
        "It allows for fast data access, usually in constant time (O(1)).\n",
        "\n",
        "In Python, a dictionary (dict) is built using a hash table.\n",
        "\n",
        "**This means:**\n",
        "\n",
        "1. It uses a hash function to convert keys into numbers.\n",
        "\n",
        "2. These numbers determine where the values are stored.\n",
        "\n",
        "3. This allows for fast access, insertion, and deletion based on the key."
      ],
      "metadata": {
        "id": "MFOH-bPRuyKG"
      }
    },
    {
      "cell_type": "markdown",
      "source": [
        "###**Q9.  Can lists contain different data types in Python?**"
      ],
      "metadata": {
        "id": "TeJp0PfivIFb"
      }
    },
    {
      "cell_type": "markdown",
      "source": [
        "**Ans:-** Yes, In Python, lists can contain different data types.\n",
        "\n",
        "**We can mix:**\n",
        "\n",
        "Integers, Strings, Float, Booleans, Even other lists or objects"
      ],
      "metadata": {
        "id": "Zgo8elCrvhfO"
      }
    },
    {
      "cell_type": "markdown",
      "source": [
        "###**Q10.  Explain why strings are immutable in Python?**"
      ],
      "metadata": {
        "id": "4TQ3wUBxv3NB"
      }
    },
    {
      "cell_type": "markdown",
      "source": [
        "**Ans:-** Strings are immutable in python because their contents cannot be changed once created. Any operation that appears to modify a string actually creates a new string, leaving the original unchanged.\n",
        "\n",
        "**Reasons for Immutability:**\n",
        "\n",
        "1. **Performance & Efficiency:** Immutable objects can be optimized and reused in memory, making string operations faster and more efficient.\n",
        "\n",
        "2. **Safety & Reliability:** Since strings can’t be changed, multiple parts of a program can safely use the same string without the risk of unexpected modifications.\n",
        "\n",
        "3. **Hashability:** Immutability allows strings to be hashable, which is essential for using them as keys in dictionaries or elements in sets."
      ],
      "metadata": {
        "id": "VXerJ78NwK02"
      }
    },
    {
      "cell_type": "markdown",
      "source": [
        "###**Q11.  What advantages do dictionaries offer over lists for certain tasks?**"
      ],
      "metadata": {
        "id": "grMcax-cwgn3"
      }
    },
    {
      "cell_type": "markdown",
      "source": [
        "**Ans:-** Advantages of do dictionaries offer over lists for certain tasks:\n",
        "\n",
        "1. Faster lookups using keys (O(1) time).\n",
        "\n",
        "2. Key-value pairs make data more structured.\n",
        "\n",
        "3. More readable and easier to understand.\n",
        "\n",
        "4. No need to remember indexes—use meaningful keys"
      ],
      "metadata": {
        "id": "1S9lKppUwnyp"
      }
    },
    {
      "cell_type": "markdown",
      "source": [
        "###**Q12.  Describe a scenario where using a tuple would be preferable over a list**"
      ],
      "metadata": {
        "id": "tZnyFMUYw5ll"
      }
    },
    {
      "cell_type": "markdown",
      "source": [
        "**Ans:-**Use a tuple when you need to store a fixed set of values that should not change.\n",
        "\n",
        "Storing coordinates **(like GPS location):**\n",
        "\n",
        "**location = (28.6139, 77.2090)** # **(latitude, longitude)**\n",
        "\n",
        "**Why tuple?**\n",
        "\n",
        "The number of values is fixed.\n",
        "\n",
        "You don’t want the data to be accidentally modified.\n",
        "\n",
        "It can be used as a dictionary key if needed."
      ],
      "metadata": {
        "id": "SE9NrX58w_Lx"
      }
    },
    {
      "cell_type": "markdown",
      "source": [
        "###**Q13.  How do sets handle duplicate values in Python?**"
      ],
      "metadata": {
        "id": "7FHwjIWpxi-A"
      }
    },
    {
      "cell_type": "markdown",
      "source": [
        "**Ans:-** a set is an unordered collection of unique elements. It automatically removes duplicates, keeping only one copy of each value."
      ],
      "metadata": {
        "id": "Gl-9NurPxmuP"
      }
    },
    {
      "cell_type": "markdown",
      "source": [
        "###**Q14.  How does the “in” keyword work differently for lists and dictionaries?**"
      ],
      "metadata": {
        "id": "wpbt9Hfdxpkw"
      }
    },
    {
      "cell_type": "markdown",
      "source": [
        "**Ans:-** The \"in\" keyword checks for membership, but it behaves differently for lists and dictionaries.\n",
        "\n",
        "1. For Lists: Checks if a value exists in the list.\n",
        "\n",
        "2. For Dictionaries: Checks if a key exists in the dictionary (not the value)."
      ],
      "metadata": {
        "id": "yBv0FdPBxu3Q"
      }
    },
    {
      "cell_type": "markdown",
      "source": [
        "###**Q15.  Can you modify the elements of a tuple? Explain why or why not?**"
      ],
      "metadata": {
        "id": "V9w8Lp2cyez8"
      }
    },
    {
      "cell_type": "markdown",
      "source": [
        "**Ans:-**No, you cannot modify the elements of a tuple in Python.\n",
        "\n",
        "**Why?**\n",
        "\n",
        "Because tuples are immutable, meaning once created, their elements cannot be changed, added, or removed.\n",
        "\n",
        "**Why Not?**\n",
        "\n",
        "You can’t modify a tuple because it’s immutable — this helps protect data from accidental changes and improves performance."
      ],
      "metadata": {
        "id": "2D_o4EBUywFM"
      }
    },
    {
      "cell_type": "markdown",
      "source": [
        "###**Q16.  What is a nested dictionary, and give an example of its use case?**"
      ],
      "metadata": {
        "id": "Fkzl8Nxsy7St"
      }
    },
    {
      "cell_type": "markdown",
      "source": [
        "**Ans:-** A nested dictionary is a dictionary within another dictionary. It allows you to store data in a hierarchical structure, where each key can map to another dictionary as its value."
      ],
      "metadata": {
        "id": "lreqk_J9zAbx"
      }
    },
    {
      "cell_type": "code",
      "source": [
        "#Example:-\n",
        "\n",
        "students = {\n",
        "    \"vikram\": {\n",
        "        \"age\": 25,\n",
        "        \"courses\": [\"Math\", \"Physics\"]\n",
        "    },\n",
        "    \"ajay\": {\n",
        "        \"age\": 22,\n",
        "        \"courses\": [\"English\", \"History\"]\n",
        "    }\n",
        "}\n",
        "\n",
        "# Access data\n",
        "print(students[\"vikram\"][\"courses\"])\n"
      ],
      "metadata": {
        "colab": {
          "base_uri": "https://localhost:8080/"
        },
        "id": "t4OIoczxxmIi",
        "outputId": "a44f555b-41cf-42e0-cfa5-916768fe32d3"
      },
      "execution_count": 7,
      "outputs": [
        {
          "output_type": "stream",
          "name": "stdout",
          "text": [
            "['Math', 'Physics']\n"
          ]
        }
      ]
    },
    {
      "cell_type": "markdown",
      "source": [
        "###**Q17. Describe the time complexity of accessing elements in a dictionary.**"
      ],
      "metadata": {
        "id": "PBHa50hmziiZ"
      }
    },
    {
      "cell_type": "markdown",
      "source": [
        "**Ans:-** The time complexity of accessing elements in a dictionary in Python is generally O(1) (constant time). This efficiency is due to the underlying implementation of dictionaries using hash tables."
      ],
      "metadata": {
        "id": "zo7nG_xQz3a8"
      }
    },
    {
      "cell_type": "markdown",
      "source": [
        "###**Q18.  In what situations are lists preferred over dictionaries.**"
      ],
      "metadata": {
        "id": "26gVqLm0z6tN"
      }
    },
    {
      "cell_type": "markdown",
      "source": [
        "**Ans:-** Lists are preferred when you need an ordered collection of simple, non-paired data that can be accessed by position (index). They are ideal when the order of elements matters and key-value mapping is not required."
      ],
      "metadata": {
        "id": "IqVmpbIT0AxJ"
      }
    },
    {
      "cell_type": "markdown",
      "source": [
        "###**Q19.  Why are dictionaries considered unordered, and how does that affect data retrieval?**"
      ],
      "metadata": {
        "id": "QimE59UE0OcZ"
      }
    },
    {
      "cell_type": "markdown",
      "source": [
        "**Ans:-** Dictionaries are unordered because their internal structure relies on a hash table to store key-value pairs. Unlike a list, which maintains the order of elements based on their position, dictionaries are focused on efficient access, insertion, and deletion, rather than preserving the order in which keys are added."
      ],
      "metadata": {
        "id": "OS3jG1rk0akX"
      }
    },
    {
      "cell_type": "markdown",
      "source": [
        "###**Q20.  Explain the difference between a list and a dictionary in terms of data retrieval.**"
      ],
      "metadata": {
        "id": "zmbrDMv_0dmX"
      }
    },
    {
      "cell_type": "markdown",
      "source": [
        "**Ans:-** **Difference Between List and Dictionary (Data Retrieval)**\n",
        "\n",
        "1. **In List:** You access data using a number (index).\n",
        "\n",
        "    Example: my_list[0] gives you the first item.\n",
        "\n",
        "    **In Dictionaries:** You access data using a key (name).\n",
        "\n",
        "    Example: my_dict[\"name\"] gives you the value linked to that key.\n",
        "\n",
        "2. **Lists** are for ordered data, like a sequence of items.\n",
        "\n",
        "    **Dictionaries** are for key-value pairs, like names and phone numbers.\n",
        "\n",
        "3. **Lists:** slower for searching (O(n)),\n",
        "\n",
        "    **Dictionaries:** faster (O(1) on average).\n",
        "\n",
        "4. In a **list**, position matters.\n",
        "\n",
        "    In a **dictionary**, the key matters."
      ],
      "metadata": {
        "id": "nayip59c1Dtl"
      }
    },
    {
      "cell_type": "markdown",
      "source": [
        "# **Practical Questions**"
      ],
      "metadata": {
        "id": "svNNXOOzN5VQ"
      }
    },
    {
      "cell_type": "markdown",
      "source": [
        "**1. Write a code to create a string with your name and print it.**"
      ],
      "metadata": {
        "id": "hiqHlxXXOGNK"
      }
    },
    {
      "cell_type": "code",
      "source": [
        "# Creating a string with a name\n",
        "my_name = \"Chaman\"\n",
        "\n",
        "# Printing the string\n",
        "print(my_name)"
      ],
      "metadata": {
        "colab": {
          "base_uri": "https://localhost:8080/"
        },
        "id": "KEFq0obMPIQs",
        "outputId": "b29af4ab-2d1f-4d72-e31b-7f8b7bc00977"
      },
      "execution_count": 8,
      "outputs": [
        {
          "output_type": "stream",
          "name": "stdout",
          "text": [
            "Chaman\n"
          ]
        }
      ]
    },
    {
      "cell_type": "markdown",
      "source": [
        "**2. Write a code to find the length of the string \"Hello World\"**"
      ],
      "metadata": {
        "id": "L4F_lyaoi_dR"
      }
    },
    {
      "cell_type": "code",
      "source": [
        "# Defining the srting\n",
        "text = \"Hello World\"\n",
        "\n",
        "# Finding the length of the string using len() function\n",
        "length = len(text)\n",
        "\n",
        "# Printing the result\n",
        "print(length)"
      ],
      "metadata": {
        "colab": {
          "base_uri": "https://localhost:8080/"
        },
        "id": "bm9oMIqlPT94",
        "outputId": "d1f26cc3-66e2-4232-d1ef-67045751a1d4"
      },
      "execution_count": null,
      "outputs": [
        {
          "output_type": "stream",
          "name": "stdout",
          "text": [
            "11\n"
          ]
        }
      ]
    },
    {
      "cell_type": "markdown",
      "source": [
        "**3. Write a code to slice the first 3 characters from the string \"Python Programming\"**"
      ],
      "metadata": {
        "id": "yJjQMbuujGJ6"
      }
    },
    {
      "cell_type": "code",
      "source": [
        "# Defining the string\n",
        "text = \"Python Programming\"\n",
        "\n",
        "# Slicing the first 3 characters (index 0 to 2)\n",
        "sliced_text = text[:3]\n",
        "\n",
        "# Printing the result\n",
        "print(sliced_text)"
      ],
      "metadata": {
        "id": "2Wv4pekLjMyl",
        "colab": {
          "base_uri": "https://localhost:8080/"
        },
        "outputId": "44db1b94-1579-43bf-ee2f-e91213f8c597"
      },
      "execution_count": null,
      "outputs": [
        {
          "output_type": "stream",
          "name": "stdout",
          "text": [
            "Pyt\n"
          ]
        }
      ]
    },
    {
      "cell_type": "markdown",
      "source": [
        "**4. Write a code to convert the string \"hello\" to uppercase.**"
      ],
      "metadata": {
        "id": "I4ATcC0ajUcy"
      }
    },
    {
      "cell_type": "code",
      "source": [
        "# Defining the string\n",
        "text = \"hello\"\n",
        "\n",
        "# Converting to uppercase using upper() method\n",
        "uppercase_text = text.upper()\n",
        "\n",
        "# Printing the result\n",
        "print(uppercase_text)"
      ],
      "metadata": {
        "id": "RpViZ0abjZQk",
        "colab": {
          "base_uri": "https://localhost:8080/"
        },
        "outputId": "42207590-47e0-4e53-f506-fc9b0a7bea3b"
      },
      "execution_count": null,
      "outputs": [
        {
          "output_type": "stream",
          "name": "stdout",
          "text": [
            "HELLO\n"
          ]
        }
      ]
    },
    {
      "cell_type": "markdown",
      "source": [
        "**5. Write a code to replace the word \"apple\" with \"orange\" in the string \"I like apple\"**"
      ],
      "metadata": {
        "id": "L0oXMxJoja6R"
      }
    },
    {
      "cell_type": "code",
      "source": [
        "# Original string\n",
        "text = \"I like apple\"\n",
        "\n",
        "# Replace 'apple' with 'orange'\n",
        "new_text = text.replace(\"apple\", \"orange\")\n",
        "\n",
        "# Printing the updated string\n",
        "print(new_text)"
      ],
      "metadata": {
        "id": "Z2oWEajCjgGa",
        "colab": {
          "base_uri": "https://localhost:8080/"
        },
        "outputId": "243eee89-4b97-4340-a329-2869e88d335c"
      },
      "execution_count": null,
      "outputs": [
        {
          "output_type": "stream",
          "name": "stdout",
          "text": [
            "I like orange\n"
          ]
        }
      ]
    },
    {
      "cell_type": "markdown",
      "source": [
        "**6. Write a code to create a list with numbers 1 to 5 and print it.**"
      ],
      "metadata": {
        "id": "R1mHHZmljgyJ"
      }
    },
    {
      "cell_type": "code",
      "source": [
        "# Creating a list with numbers 1 to 5\n",
        "numbers = [1, 2, 3, 4, 5]\n",
        "\n",
        "# Printing the list\n",
        "print(numbers)"
      ],
      "metadata": {
        "id": "gjYgxklzjq5x",
        "colab": {
          "base_uri": "https://localhost:8080/"
        },
        "outputId": "87b49f4a-efd6-41cc-e3a4-0a2eaea39a2b"
      },
      "execution_count": null,
      "outputs": [
        {
          "output_type": "stream",
          "name": "stdout",
          "text": [
            "[1, 2, 3, 4, 5]\n"
          ]
        }
      ]
    },
    {
      "cell_type": "markdown",
      "source": [
        "**7. Write a code to append the number 10 to the list [1, 2, 3, 4]**"
      ],
      "metadata": {
        "id": "iEli5h2mjrid"
      }
    },
    {
      "cell_type": "code",
      "source": [
        "# Defining the original list\n",
        "numbers = [1, 2, 3, 4]\n",
        "\n",
        "# Appending the number 10 to the list\n",
        "numbers.append(10)\n",
        "\n",
        "# Printing the updated list\n",
        "print(numbers)"
      ],
      "metadata": {
        "id": "s1iMNb3gjw_U",
        "colab": {
          "base_uri": "https://localhost:8080/"
        },
        "outputId": "c296cade-2a03-43ee-8b9d-c13ee8107999"
      },
      "execution_count": null,
      "outputs": [
        {
          "output_type": "stream",
          "name": "stdout",
          "text": [
            "[1, 2, 3, 4, 10]\n"
          ]
        }
      ]
    },
    {
      "cell_type": "markdown",
      "source": [
        "**8. Write a code to remove the number 3 from the list [1, 2, 3, 4, 5]**"
      ],
      "metadata": {
        "id": "n88h7SHqjxdF"
      }
    },
    {
      "cell_type": "code",
      "source": [
        "# Defining the original list\n",
        "numbers = [1, 2, 3, 4, 5]\n",
        "\n",
        "# Removing the number 3 from the list\n",
        "numbers.remove(3)\n",
        "\n",
        "# Printing the updated list\n",
        "print(numbers)"
      ],
      "metadata": {
        "id": "dFEZK0bwj1-D",
        "colab": {
          "base_uri": "https://localhost:8080/"
        },
        "outputId": "87968964-068a-4d33-f551-695652a9337b"
      },
      "execution_count": null,
      "outputs": [
        {
          "output_type": "stream",
          "name": "stdout",
          "text": [
            "[1, 2, 4, 5]\n"
          ]
        }
      ]
    },
    {
      "cell_type": "markdown",
      "source": [
        "**9. Write a code to access the second element in the list ['a', 'b', 'c', 'd']**"
      ],
      "metadata": {
        "id": "QbIHSPKQj2tY"
      }
    },
    {
      "cell_type": "code",
      "source": [
        "# Defining the list\n",
        "letters = ['a', 'b', 'c', 'd']\n",
        "\n",
        "# Accessing the second element (index 1, since indexing starts at 0)\n",
        "second_element = letters[1]\n",
        "\n",
        "# Printing the result\n",
        "print(second_element)"
      ],
      "metadata": {
        "id": "vfDNeBFNj9fd",
        "colab": {
          "base_uri": "https://localhost:8080/"
        },
        "outputId": "bb9bed30-e239-437f-cd41-c0cfe8992d45"
      },
      "execution_count": null,
      "outputs": [
        {
          "output_type": "stream",
          "name": "stdout",
          "text": [
            "b\n"
          ]
        }
      ]
    },
    {
      "cell_type": "markdown",
      "source": [
        "**10. Write a code to reverse the list [10, 20, 30, 40, 50].**"
      ],
      "metadata": {
        "id": "S-SsV858j98E"
      }
    },
    {
      "cell_type": "code",
      "source": [
        "# Defining the original list\n",
        "numbers = [10, 20, 30, 40, 50]\n",
        "\n",
        "# Reversing the list using reverse() method\n",
        "numbers.reverse()\n",
        "\n",
        "# Printing the reversed list\n",
        "print(numbers)"
      ],
      "metadata": {
        "id": "MKNYk2sIkESK",
        "colab": {
          "base_uri": "https://localhost:8080/"
        },
        "outputId": "8f42a51a-a9e8-49d0-f13f-9b4d6f0d9cb0"
      },
      "execution_count": null,
      "outputs": [
        {
          "output_type": "stream",
          "name": "stdout",
          "text": [
            "[50, 40, 30, 20, 10]\n"
          ]
        }
      ]
    },
    {
      "cell_type": "markdown",
      "source": [
        "**11. Write a code to create a tuple with the elements 100, 200, 300 and print it.**"
      ],
      "metadata": {
        "id": "O4MzSC-ikEvq"
      }
    },
    {
      "cell_type": "code",
      "source": [
        "# Creating a tuple with elements 100, 200, 300\n",
        "my_tuple = (100, 200, 300)\n",
        "\n",
        "# Printing the tuple\n",
        "print(my_tuple)"
      ],
      "metadata": {
        "id": "FWvUsOCVkMXv",
        "colab": {
          "base_uri": "https://localhost:8080/"
        },
        "outputId": "2ef3e46f-63a1-494d-edd9-42e2254672c4"
      },
      "execution_count": null,
      "outputs": [
        {
          "output_type": "stream",
          "name": "stdout",
          "text": [
            "(100, 200, 300)\n"
          ]
        }
      ]
    },
    {
      "cell_type": "markdown",
      "source": [
        "**12. Write a code to access the second-to-last element of the tuple ('red', 'green', 'blue', 'yellow')**"
      ],
      "metadata": {
        "id": "wtI_UsVjkM5c"
      }
    },
    {
      "cell_type": "code",
      "source": [
        "# Defining the tuple\n",
        "colors = ('red', 'green', 'blue', 'yellow')\n",
        "\n",
        "# Accessing the second-to-last element using negative indexing\n",
        "second_last = colors[-2]\n",
        "\n",
        "# Printing the result\n",
        "print(second_last)"
      ],
      "metadata": {
        "id": "mrupOCzSkSrR",
        "colab": {
          "base_uri": "https://localhost:8080/"
        },
        "outputId": "86bccf5a-c67b-42d0-aa70-270e4ab7008c"
      },
      "execution_count": null,
      "outputs": [
        {
          "output_type": "stream",
          "name": "stdout",
          "text": [
            "blue\n"
          ]
        }
      ]
    },
    {
      "cell_type": "markdown",
      "source": [
        "**13. Write a code to find the minimum number in the tuple (10, 20, 5, 15).**"
      ],
      "metadata": {
        "id": "a6TrUPPlkTMj"
      }
    },
    {
      "cell_type": "code",
      "source": [
        "# Defining the tuple\n",
        "numbers = (10, 20, 5, 15)\n",
        "\n",
        "# Finding the minimum number using min() function\n",
        "minimum = min(numbers)\n",
        "\n",
        "# Printing the result\n",
        "print(minimum)"
      ],
      "metadata": {
        "id": "5ujHnUNHkXcZ",
        "colab": {
          "base_uri": "https://localhost:8080/"
        },
        "outputId": "17bf3021-641f-49b6-e8e4-b06d0ef42c57"
      },
      "execution_count": null,
      "outputs": [
        {
          "output_type": "stream",
          "name": "stdout",
          "text": [
            "5\n"
          ]
        }
      ]
    },
    {
      "cell_type": "markdown",
      "source": [
        "**14. Write a code to find the index of the element \"cat\" in the tuple ('dog', 'cat', 'rabbit').**"
      ],
      "metadata": {
        "id": "Iq7wGAoxkX7e"
      }
    },
    {
      "cell_type": "code",
      "source": [
        "# Defining the tuple\n",
        "animals = ('dog', 'cat', 'rabbit')\n",
        "\n",
        "# Finding the index of 'cat' using index() method\n",
        "index = animals.index('cat')\n",
        "\n",
        "# Printing the result\n",
        "print(index)"
      ],
      "metadata": {
        "colab": {
          "base_uri": "https://localhost:8080/"
        },
        "id": "56GR5VQDPtX2",
        "outputId": "895d051f-ae40-4e78-ffdd-e7ebe6a56e2e"
      },
      "execution_count": null,
      "outputs": [
        {
          "output_type": "stream",
          "name": "stdout",
          "text": [
            "1\n"
          ]
        }
      ]
    },
    {
      "cell_type": "markdown",
      "source": [
        "**15. Write a code to create a tuple containing three different fruits and check if \"kiwi\" is in it.**"
      ],
      "metadata": {
        "id": "h9-4SC7bkdZ3"
      }
    },
    {
      "cell_type": "code",
      "source": [
        "# Creating a tuple with fruits\n",
        "fruits = ('apple', 'banana', 'orange')\n",
        "\n",
        "# Checking if 'kiwi' is in the tuple\n",
        "is_kiwi_in_tuple = 'kiwi' in fruits\n",
        "\n",
        "# Printing the result\n",
        "print(is_kiwi_in_tuple)"
      ],
      "metadata": {
        "id": "vPhyRxYAkhVg",
        "colab": {
          "base_uri": "https://localhost:8080/"
        },
        "outputId": "8b570c5f-7e41-41cc-fe9f-5456452b52ae"
      },
      "execution_count": null,
      "outputs": [
        {
          "output_type": "stream",
          "name": "stdout",
          "text": [
            "False\n"
          ]
        }
      ]
    },
    {
      "cell_type": "markdown",
      "source": [
        "**16. Write a code to create a set with the elements 'a', 'b', 'c' and print it.**"
      ],
      "metadata": {
        "id": "hbm_CaaGkk6d"
      }
    },
    {
      "cell_type": "code",
      "source": [
        "# Creating a set with element 'a','b','c',\n",
        "# Sets are unordered collections of unique items in python\n",
        "my_set = {'a','b','c'}\n",
        "\n",
        "# Printing the set\n",
        "# The output may show the elements in any order, like {'a','b','c'},\n",
        "# {'a,'c','b'}, {'b','a','c'}, {'b','c','a'}, {'c','a','b'}, or {'c','b','a'},\n",
        "print(my_set)"
      ],
      "metadata": {
        "colab": {
          "base_uri": "https://localhost:8080/"
        },
        "id": "g3RheROWQ9_e",
        "outputId": "a5b903f9-e189-405e-aa4b-cbbd1e4266b0"
      },
      "execution_count": null,
      "outputs": [
        {
          "output_type": "stream",
          "name": "stdout",
          "text": [
            "{'a', 'c', 'b'}\n"
          ]
        }
      ]
    },
    {
      "cell_type": "markdown",
      "source": [
        "**17. Write a code to clear all elements from the set {1, 2, 3, 4, 5}.**"
      ],
      "metadata": {
        "id": "WQXANBiLkor5"
      }
    },
    {
      "cell_type": "code",
      "source": [
        "# Creating a set with numbers\n",
        "my_set = {1, 2, 3, 4, 5}\n",
        "\n",
        "# Clearing all elements from the set\n",
        "my_set.clear()\n",
        "\n",
        "# Printing the set after clearing\n",
        "print(my_set)"
      ],
      "metadata": {
        "id": "mGSilPoVkr9J",
        "colab": {
          "base_uri": "https://localhost:8080/"
        },
        "outputId": "24efc938-ee23-4ebc-fea3-0308d95170cc"
      },
      "execution_count": null,
      "outputs": [
        {
          "output_type": "stream",
          "name": "stdout",
          "text": [
            "set()\n"
          ]
        }
      ]
    },
    {
      "cell_type": "markdown",
      "source": [
        "**18. Write a code to remove the element 4 from the set {1, 2, 3, 4}.**"
      ],
      "metadata": {
        "id": "PAnQ17zFksZX"
      }
    },
    {
      "cell_type": "code",
      "source": [
        "# Creating a set with elements\n",
        "my_set = {1, 2, 3, 4}\n",
        "\n",
        "# Removing the element 4 from the set\n",
        "my_set.remove(4)\n",
        "\n",
        "# Printing the set after removing\n",
        "print(my_set)"
      ],
      "metadata": {
        "id": "B9EXAkgykw0J",
        "colab": {
          "base_uri": "https://localhost:8080/"
        },
        "outputId": "a2070d1f-cfa9-415e-8639-35d7952da838"
      },
      "execution_count": null,
      "outputs": [
        {
          "output_type": "stream",
          "name": "stdout",
          "text": [
            "{1, 2, 3}\n"
          ]
        }
      ]
    },
    {
      "cell_type": "markdown",
      "source": [
        "**19. Write a code to find the union of two sets {1, 2, 3} and {3, 4, 5}.**"
      ],
      "metadata": {
        "id": "grzway64kxQU"
      }
    },
    {
      "cell_type": "code",
      "source": [
        "# Defining two sets\n",
        "set1 = {1, 2, 3}\n",
        "set2 = {3, 4, 5}\n",
        "\n",
        "# Finding the union of the sets using union() method\n",
        "union_set = set1.union(set2)\n",
        "\n",
        "# Printing the result\n",
        "print(union_set)"
      ],
      "metadata": {
        "id": "UzY7ldsdk0mx",
        "colab": {
          "base_uri": "https://localhost:8080/"
        },
        "outputId": "ef154155-8ce0-47dc-d053-f641b2a4c773"
      },
      "execution_count": null,
      "outputs": [
        {
          "output_type": "stream",
          "name": "stdout",
          "text": [
            "{1, 2, 3, 4, 5}\n"
          ]
        }
      ]
    },
    {
      "cell_type": "markdown",
      "source": [
        "**20. Write a code to find the intersection of two sets {1, 2, 3} and {2, 3, 4}.**"
      ],
      "metadata": {
        "id": "VOJKbO9rk1Kn"
      }
    },
    {
      "cell_type": "code",
      "source": [
        "# Defining two sets\n",
        "set1 = {1, 2, 3}\n",
        "set2 = {2, 3, 4}\n",
        "\n",
        "# Finding the intersection of the sets using intersection() method\n",
        "intersection_set = set1.intersection(set2)\n",
        "\n",
        "# Printing the result\n",
        "print(intersection_set)"
      ],
      "metadata": {
        "id": "st7PmK-Tk402",
        "colab": {
          "base_uri": "https://localhost:8080/"
        },
        "outputId": "f286ba47-483e-44fd-bdb3-c76fa8f66cf4"
      },
      "execution_count": null,
      "outputs": [
        {
          "output_type": "stream",
          "name": "stdout",
          "text": [
            "{2, 3}\n"
          ]
        }
      ]
    },
    {
      "cell_type": "markdown",
      "source": [
        "**21. Write a code to create a dictionary with the keys \"name\", \"age\", and \"city\", and print it.**"
      ],
      "metadata": {
        "id": "9eWPIRAdk6AG"
      }
    },
    {
      "cell_type": "code",
      "source": [
        "# Creating a dictionary with keys and values\n",
        "person = {\n",
        "    \"name\": \"Vikram Sharma\",\n",
        "    \"age\": 22,\n",
        "    \"city\": \"India\"\n",
        "}\n",
        "\n",
        "# Printing the dictionary\n",
        "print(person)"
      ],
      "metadata": {
        "id": "7zk6eIO1lDio",
        "colab": {
          "base_uri": "https://localhost:8080/"
        },
        "outputId": "deef8595-462f-4d67-c1bb-59ddb44418e6"
      },
      "execution_count": null,
      "outputs": [
        {
          "output_type": "stream",
          "name": "stdout",
          "text": [
            "{'name': 'Vikram Sharma', 'age': 22, 'city': 'India'}\n"
          ]
        }
      ]
    },
    {
      "cell_type": "markdown",
      "source": [
        "**22. Write a code to add a new key-value pair \"country\": \"USA\" to the dictionary {'name': 'John', 'age': 25}.**"
      ],
      "metadata": {
        "id": "xbJTAXWAlD-i"
      }
    },
    {
      "cell_type": "code",
      "source": [
        "# Defining the original dictionary\n",
        "person = {'name': 'John', 'age': 25}\n",
        "\n",
        "# Adding a new key-value pair\n",
        "person['country'] = 'USA'\n",
        "\n",
        "# Printing the updated dictionary\n",
        "print(person)"
      ],
      "metadata": {
        "colab": {
          "base_uri": "https://localhost:8080/"
        },
        "id": "U4-9LW8UUj9f",
        "outputId": "d3588d32-e482-46f6-ece6-ce7b49009d89"
      },
      "execution_count": null,
      "outputs": [
        {
          "output_type": "stream",
          "name": "stdout",
          "text": [
            "{'name': 'John', 'age': 25, 'country': 'USA'}\n"
          ]
        }
      ]
    },
    {
      "cell_type": "markdown",
      "source": [
        "**23. Write a code to access the value associated with the key \"name\" in the dictionary {'name': 'Alice', 'age': 30}.**"
      ],
      "metadata": {
        "id": "PgQNSpYplMGj"
      }
    },
    {
      "cell_type": "code",
      "source": [
        "# Defining the dictionary\n",
        "person = {'name': 'Alice', 'age': 30}\n",
        "\n",
        "# Accessing the value associated with the key 'name'\n",
        "name_value = person['name']\n",
        "\n",
        "# Printing the result\n",
        "print(name_value)"
      ],
      "metadata": {
        "id": "XXJRDB6GlOLq",
        "colab": {
          "base_uri": "https://localhost:8080/"
        },
        "outputId": "c7a5839c-dce7-470c-fce9-0623ec039754"
      },
      "execution_count": null,
      "outputs": [
        {
          "output_type": "stream",
          "name": "stdout",
          "text": [
            "Alice\n"
          ]
        }
      ]
    },
    {
      "cell_type": "markdown",
      "source": [
        "**24. Write a code to remove the key \"age\" from the dictionary {'name': 'Bob', 'age': 22, 'city': 'New York'}.**"
      ],
      "metadata": {
        "id": "Qhg9dLWmlOm1"
      }
    },
    {
      "cell_type": "code",
      "source": [
        "# Defining the dictionary\n",
        "person = {'name': 'Bob', 'age': 22, 'city': 'New York'}\n",
        "\n",
        "# Removing the key 'age' from the dictionary\n",
        "person.pop('age')\n",
        "\n",
        "# Printing the updated dictionary\n",
        "print(person)"
      ],
      "metadata": {
        "id": "FGpkgipJlSa0",
        "colab": {
          "base_uri": "https://localhost:8080/"
        },
        "outputId": "32e999ba-4e43-463b-ed39-f6c652ea9503"
      },
      "execution_count": null,
      "outputs": [
        {
          "output_type": "stream",
          "name": "stdout",
          "text": [
            "{'name': 'Bob', 'city': 'New York'}\n"
          ]
        }
      ]
    },
    {
      "cell_type": "markdown",
      "source": [
        "**25. Write a code to check if the key \"city\" exists in the dictionary {'name': 'Alice', 'city': 'Paris'}.**"
      ],
      "metadata": {
        "id": "vW385ixwlS6U"
      }
    },
    {
      "cell_type": "code",
      "source": [
        "# Definig the dictionary\n",
        "person = {'name': 'Alice', 'city': 'Paris'}\n",
        "\n",
        "# Checking if the key 'city' exists in the dictionary\n",
        "city_exists = 'city' in person\n",
        "\n",
        "# Printing the result\n",
        "print(city_exists)"
      ],
      "metadata": {
        "id": "2Yio4oG_lWkD",
        "colab": {
          "base_uri": "https://localhost:8080/"
        },
        "outputId": "8c536f6c-68f0-4e50-e291-9a17e57cf2fa"
      },
      "execution_count": null,
      "outputs": [
        {
          "output_type": "stream",
          "name": "stdout",
          "text": [
            "True\n"
          ]
        }
      ]
    },
    {
      "cell_type": "markdown",
      "source": [
        "**26. Write a code to create a list, a tuple, and a dictionary, and print them all.**"
      ],
      "metadata": {
        "id": "_4R5Ly_rlZA4"
      }
    },
    {
      "cell_type": "code",
      "source": [
        "# Creating a List\n",
        "my_list = [1, 2, 3, 4, 5]\n",
        "\n",
        "# Creating a tuple\n",
        "my_tuple = (10, 20, 30, 40, 50)\n",
        "\n",
        "# Creating a dictionary\n",
        "my_dict = {\n",
        "    \"name\": \"Vikram\",\n",
        "    \"age\": 22,\n",
        "    \"city\": \"India\"\n",
        "}\n",
        "# printing List, tuple and dictionary\n",
        "print(my_list)\n",
        "print(my_tuple)\n",
        "print(my_dict)"
      ],
      "metadata": {
        "id": "IWOgiRPClbD0",
        "colab": {
          "base_uri": "https://localhost:8080/"
        },
        "outputId": "98f16a36-4cc0-404d-fb4a-9d42c4be8a0b"
      },
      "execution_count": null,
      "outputs": [
        {
          "output_type": "stream",
          "name": "stdout",
          "text": [
            "[1, 2, 3, 4, 5]\n",
            "(10, 20, 30, 40, 50)\n",
            "{'name': 'Vikram', 'age': 22, 'city': 'India'}\n"
          ]
        }
      ]
    },
    {
      "cell_type": "markdown",
      "source": [
        "**27. Write a code to create a list of 5 random numbers between 1 and 100, sort it in ascending order, and print the\n",
        "result.(replaced)**"
      ],
      "metadata": {
        "id": "q0_AWqMPlbue"
      }
    },
    {
      "cell_type": "code",
      "source": [
        "import random\n",
        "\n",
        "# Creating a list of 5 random numbers between 1 to 100\n",
        "random_numbers = random.sample(range(1,101), 5)\n",
        "\n",
        "# Sorting the list in acending order\n",
        "random_numbers.sort()\n",
        "# Creating a list of 5 random numbers between 1 to 100\n",
        "\n",
        "random_numbers = random.sample(range(1,101), 5)\n",
        "\n",
        "# Sorting the list in acending order\n",
        "random_numbers.sort()\n",
        "\n",
        "# Printing the sorted list\n",
        "print(\"random_numbers:\",random_numbers)"
      ],
      "metadata": {
        "id": "INnA7pxmlgjA",
        "colab": {
          "base_uri": "https://localhost:8080/"
        },
        "outputId": "ed85140f-703e-4f91-96be-bd67f20b6dc7"
      },
      "execution_count": null,
      "outputs": [
        {
          "output_type": "stream",
          "name": "stdout",
          "text": [
            "random_numbers: [11, 30, 68, 73, 74]\n"
          ]
        }
      ]
    },
    {
      "cell_type": "markdown",
      "source": [
        "**28. Write a code to create a list with strings and print the element at the third index.**"
      ],
      "metadata": {
        "id": "hS7OEHL5lg_t"
      }
    },
    {
      "cell_type": "code",
      "source": [
        "# Creating a list with string elements\n",
        "fruits = [\"apple\",\"banana\",\"cherry\",\"orange\",\"grape\"]\n",
        "\n",
        "# Printing the element at the third index (Indexing starts from 0)\n",
        "print(\"This third index is:\", fruits[3])"
      ],
      "metadata": {
        "id": "gIT_OZIAlkOc",
        "colab": {
          "base_uri": "https://localhost:8080/"
        },
        "outputId": "43c8c3c1-38a6-44b2-9e0d-a1e1b5d38ab1"
      },
      "execution_count": null,
      "outputs": [
        {
          "output_type": "stream",
          "name": "stdout",
          "text": [
            "This third index is: orange\n"
          ]
        }
      ]
    },
    {
      "cell_type": "markdown",
      "source": [
        "**29. Write a code to combine two dictionaries into one and print the result.**"
      ],
      "metadata": {
        "id": "-X9AZzkdll-M"
      }
    },
    {
      "cell_type": "code",
      "source": [
        "# Defining two dictionaries\n",
        "dict1 = {'a': 1, 'b': 2}\n",
        "dict2 = {'c': 3, 'd': 4}\n",
        "\n",
        "# Combining the dictionaries using the update() method\n",
        "dict1.update(dict2)\n",
        "\n",
        "# printing the combined dictionary\n",
        "print(\"After combining two (dict1 & dict2) dictionary :\", dict1)"
      ],
      "metadata": {
        "id": "eNKupIcrlrK2",
        "colab": {
          "base_uri": "https://localhost:8080/"
        },
        "outputId": "cdd3bcb1-30f6-441d-ccfe-616eba01ea6f"
      },
      "execution_count": null,
      "outputs": [
        {
          "output_type": "stream",
          "name": "stdout",
          "text": [
            "After combining two (dict1 & dict2) dictionary : {'a': 1, 'b': 2, 'c': 3, 'd': 4}\n"
          ]
        }
      ]
    },
    {
      "cell_type": "markdown",
      "source": [
        "**30. Write a code to convert a list of strings into a set.**"
      ],
      "metadata": {
        "id": "lyMQ36Nblti1"
      }
    },
    {
      "cell_type": "code",
      "source": [
        "# Defining a list of string\n",
        "string_list = [\"apple\", \"banana\", \"cherry\", \"date\"]\n",
        "\n",
        "# Converting the list to a set using set() function\n",
        "string_set = set(string_list)\n",
        "\n",
        "# Printing the set\n",
        "print(\"After converting list of string into set:\", string_set)"
      ],
      "metadata": {
        "id": "VfRsFaH7lv7I",
        "colab": {
          "base_uri": "https://localhost:8080/"
        },
        "outputId": "97ac425d-3c19-42ba-b951-2b49ab85c1fd"
      },
      "execution_count": null,
      "outputs": [
        {
          "output_type": "stream",
          "name": "stdout",
          "text": [
            "After converting list of string into set: {'cherry', 'date', 'apple', 'banana'}\n"
          ]
        }
      ]
    }
  ]
}